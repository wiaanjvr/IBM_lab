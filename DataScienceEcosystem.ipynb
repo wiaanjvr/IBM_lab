{
 "cells": [
  {
   "cell_type": "markdown",
   "id": "e6844560",
   "metadata": {},
   "source": [
    "# Data Science Tools and Ecosystem"
   ]
  },
  {
   "cell_type": "markdown",
   "id": "d5a2b5e0",
   "metadata": {},
   "source": [
    "In this notebook, Data Science Tools and Ecosystem are summarized."
   ]
  },
  {
   "cell_type": "markdown",
   "id": "a4e45c3d",
   "metadata": {},
   "source": [
    " ___Objectives:___\n",
    " - List popular languages for Data Science\n",
    " - List commonly used libraries for Data Science\n",
    " - Do basic arithmetic in Python"
   ]
  },
  {
   "cell_type": "markdown",
   "id": "b69c6908",
   "metadata": {},
   "source": [
    "##### Some of the popular languages that Data Scientists user are:\n",
    "1. Python\n",
    "2. R\n",
    "3. Scala"
   ]
  },
  {
   "cell_type": "markdown",
   "id": "f594f2e9",
   "metadata": {},
   "source": [
    "##### Some of the commonly used libraries used by Data Scientists include:\n",
    "1. Dplyr\n",
    "2. Caret\n",
    "3. Tidyverse"
   ]
  },
  {
   "cell_type": "markdown",
   "id": "892f1e35",
   "metadata": {},
   "source": [
    "|Data Science Tools|\n",
    "|------------------|\n",
    "| Jupyter Notebook|\n",
    "| RStudio|\n",
    "| VS Code|"
   ]
  },
  {
   "cell_type": "markdown",
   "id": "ee55a023",
   "metadata": {},
   "source": [
    "### Below are a few examples of evaluating arithmetic expressions in Python"
   ]
  },
  {
   "cell_type": "code",
   "execution_count": 3,
   "id": "9243f7af",
   "metadata": {},
   "outputs": [
    {
     "data": {
      "text/plain": [
       "17"
      ]
     },
     "execution_count": 3,
     "metadata": {},
     "output_type": "execute_result"
    }
   ],
   "source": [
    "# This is a simple arithmetic expression to multiply then add integers.\n",
    "(3*4)+5"
   ]
  },
  {
   "cell_type": "code",
   "execution_count": 4,
   "id": "812ff4b1",
   "metadata": {
    "scrolled": true
   },
   "outputs": [
    {
     "data": {
      "text/plain": [
       "3.3333333333333335"
      ]
     },
     "execution_count": 4,
     "metadata": {},
     "output_type": "execute_result"
    }
   ],
   "source": [
    "# This will convert 200 minutes to hours by dividing by 60.\n",
    "200/60"
   ]
  },
  {
   "cell_type": "markdown",
   "id": "729e7e17",
   "metadata": {},
   "source": [
    "## Author\n",
    "Willem Janse van Rensburg"
   ]
  },
  {
   "cell_type": "code",
   "execution_count": null,
   "id": "c8c36c57",
   "metadata": {},
   "outputs": [],
   "source": []
  }
 ],
 "metadata": {
  "kernelspec": {
   "display_name": "Python 3 (ipykernel)",
   "language": "python",
   "name": "python3"
  },
  "language_info": {
   "codemirror_mode": {
    "name": "ipython",
    "version": 3
   },
   "file_extension": ".py",
   "mimetype": "text/x-python",
   "name": "python",
   "nbconvert_exporter": "python",
   "pygments_lexer": "ipython3",
   "version": "3.11.5"
  }
 },
 "nbformat": 4,
 "nbformat_minor": 5
}
